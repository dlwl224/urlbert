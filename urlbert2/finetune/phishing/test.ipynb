{
 "cells": [
  {
   "cell_type": "code",
   "execution_count": 5,
   "id": "a55036a6",
   "metadata": {},
   "outputs": [
    {
     "name": "stdout",
     "output_type": "stream",
     "text": [
      "Collecting protobuf\n",
      "  Downloading protobuf-6.31.1-cp39-abi3-manylinux2014_x86_64.whl.metadata (593 bytes)\n",
      "Downloading protobuf-6.31.1-cp39-abi3-manylinux2014_x86_64.whl (321 kB)\n",
      "Installing collected packages: protobuf\n",
      "Successfully installed protobuf-6.31.1\n",
      "Note: you may need to restart the kernel to use updated packages.\n"
     ]
    }
   ],
   "source": [
    "# ─── 셀 0: protobuf 설치 ─────────────────────────────────────\n",
    "%pip install protobuf\n"
   ]
  },
  {
   "cell_type": "code",
   "execution_count": 1,
   "id": "31b44c91",
   "metadata": {},
   "outputs": [
    {
     "name": "stderr",
     "output_type": "stream",
     "text": [
      "/home/kong/miniconda3/envs/urlbert-gpu/lib/python3.10/site-packages/tqdm/auto.py:21: TqdmWarning: IProgress not found. Please update jupyter and ipywidgets. See https://ipywidgets.readthedocs.io/en/stable/user_install.html\n",
      "  from .autonotebook import tqdm as notebook_tqdm\n"
     ]
    }
   ],
   "source": [
    "import pandas as pd\n",
    "import torch\n",
    "from torch.utils.data import DataLoader, TensorDataset\n",
    "from transformers import BertTokenizerFast, BertConfig, BertForSequenceClassification\n",
    "from sklearn.metrics import accuracy_score, precision_score, recall_score, f1_score\n"
   ]
  },
  {
   "cell_type": "code",
   "execution_count": 2,
   "id": "0a385a71",
   "metadata": {},
   "outputs": [],
   "source": [
    "DEVICE = torch.device(\"cuda\" if torch.cuda.is_available() else \"cpu\")\n",
    "BASE_DIR = \"/home/kong/urlbert/url_bert/urlbert2\"\n",
    "CHECKPOINT_PATH = f\"{BASE_DIR}/finetune/phishing/checkpoints/modelx_URLBERT_80.pth\"\n",
    "TEST_CSV = f\"{BASE_DIR}/dataset/urlbert_input_test.csv\""
   ]
  },
  {
   "cell_type": "code",
   "execution_count": 3,
   "id": "aca9b4fc",
   "metadata": {},
   "outputs": [],
   "source": [
    "df = pd.read_csv(TEST_CSV)\n",
    "texts = df[\"text\"].tolist()\n",
    "# benign→0, malicious→1 매핑\n",
    "labels = df[\"label\"].map({\"benign\": 0, \"malicious\": 1}).tolist()"
   ]
  },
  {
   "cell_type": "code",
   "execution_count": 4,
   "id": "26a237fe",
   "metadata": {},
   "outputs": [
    {
     "name": "stderr",
     "output_type": "stream",
     "text": [
      "/tmp/ipykernel_2060323/1629330464.py:13: FutureWarning: You are using `torch.load` with `weights_only=False` (the current default value), which uses the default pickle module implicitly. It is possible to construct malicious pickle data which will execute arbitrary code during unpickling (See https://github.com/pytorch/pytorch/blob/main/SECURITY.md#untrusted-models for more details). In a future release, the default value for `weights_only` will be flipped to `True`. This limits the functions that could be executed during unpickling. Arbitrary objects will no longer be allowed to be loaded via this mode unless they are explicitly allowlisted by the user via `torch.serialization.add_safe_globals`. We recommend you start setting `weights_only=True` for any use case where you don't have full control of the loaded file. Please open an issue on GitHub for any issues related to this experimental feature.\n",
      "  orig_state = torch.load(CHECKPOINT_PATH, map_location=\"cpu\")\n"
     ]
    },
    {
     "name": "stdout",
     "output_type": "stream",
     "text": [
      "Missing keys   : ['bert.pooler.dense.weight', 'bert.pooler.dense.bias']\n",
      "Unexpected keys: []\n"
     ]
    },
    {
     "data": {
      "text/plain": [
       "BertForSequenceClassification(\n",
       "  (bert): BertModel(\n",
       "    (embeddings): BertEmbeddings(\n",
       "      (word_embeddings): Embedding(5000, 768, padding_idx=0)\n",
       "      (position_embeddings): Embedding(512, 768)\n",
       "      (token_type_embeddings): Embedding(2, 768)\n",
       "      (LayerNorm): LayerNorm((768,), eps=1e-12, elementwise_affine=True)\n",
       "      (dropout): Dropout(p=0.1, inplace=False)\n",
       "    )\n",
       "    (encoder): BertEncoder(\n",
       "      (layer): ModuleList(\n",
       "        (0-11): 12 x BertLayer(\n",
       "          (attention): BertAttention(\n",
       "            (self): BertSdpaSelfAttention(\n",
       "              (query): Linear(in_features=768, out_features=768, bias=True)\n",
       "              (key): Linear(in_features=768, out_features=768, bias=True)\n",
       "              (value): Linear(in_features=768, out_features=768, bias=True)\n",
       "              (dropout): Dropout(p=0.1, inplace=False)\n",
       "            )\n",
       "            (output): BertSelfOutput(\n",
       "              (dense): Linear(in_features=768, out_features=768, bias=True)\n",
       "              (LayerNorm): LayerNorm((768,), eps=1e-12, elementwise_affine=True)\n",
       "              (dropout): Dropout(p=0.1, inplace=False)\n",
       "            )\n",
       "          )\n",
       "          (intermediate): BertIntermediate(\n",
       "            (dense): Linear(in_features=768, out_features=3072, bias=True)\n",
       "            (intermediate_act_fn): GELUActivation()\n",
       "          )\n",
       "          (output): BertOutput(\n",
       "            (dense): Linear(in_features=3072, out_features=768, bias=True)\n",
       "            (LayerNorm): LayerNorm((768,), eps=1e-12, elementwise_affine=True)\n",
       "            (dropout): Dropout(p=0.1, inplace=False)\n",
       "          )\n",
       "        )\n",
       "      )\n",
       "    )\n",
       "    (pooler): BertPooler(\n",
       "      (dense): Linear(in_features=768, out_features=768, bias=True)\n",
       "      (activation): Tanh()\n",
       "    )\n",
       "  )\n",
       "  (dropout): Dropout(p=0.1, inplace=False)\n",
       "  (classifier): Linear(in_features=768, out_features=2, bias=True)\n",
       ")"
      ]
     },
     "execution_count": 4,
     "metadata": {},
     "output_type": "execute_result"
    }
   ],
   "source": [
    "from collections import OrderedDict\n",
    "import torch\n",
    "from transformers import BertConfig, BertForSequenceClassification\n",
    "from pytorch_pretrained_bert import BertTokenizer\n",
    "# 1) 토크나이저 & 모델 초기화\n",
    "tokenizer = BertTokenizer(f\"{BASE_DIR}/bert_tokenizer/vocab.txt\")\n",
    "\n",
    "config = BertConfig.from_pretrained(f\"{BASE_DIR}/bert_config\", num_labels=2,\n",
    "    vocab_size=5000)\n",
    "model = BertForSequenceClassification(config)\n",
    "\n",
    "# 2) 체크포인트 로드 & 키 교정\n",
    "orig_state = torch.load(CHECKPOINT_PATH, map_location=\"cpu\")\n",
    "fixed_state = OrderedDict()\n",
    "for k, v in orig_state.items():\n",
    "    # 'bert.bert.' → 'bert.', 혹은 'module.' 제거 등\n",
    "    new_k = k\n",
    "    if new_k.startswith(\"bert.bert.\"):\n",
    "        new_k = new_k.replace(\"bert.bert.\", \"bert.\")\n",
    "    # 만약 DataParallel 때문에 'module.' 접두사가 있다면\n",
    "    if new_k.startswith(\"module.\"):\n",
    "        new_k = new_k.replace(\"module.\", \"\")\n",
    "    fixed_state[new_k] = v\n",
    "\n",
    "# 3) strict=False 로 로드해서 누락된 키/예상치 못한 키만 확인\n",
    "missing, unexpected = model.load_state_dict(fixed_state, strict=False)\n",
    "print(\"Missing keys   :\", missing)\n",
    "print(\"Unexpected keys:\", unexpected)\n",
    "\n",
    "# 4) 모델 GPU로 보내기 & 평가 모드\n",
    "model.to(DEVICE)\n",
    "model.eval()\n"
   ]
  },
  {
   "cell_type": "code",
   "execution_count": 5,
   "id": "200b69cc",
   "metadata": {},
   "outputs": [
    {
     "ename": "AttributeError",
     "evalue": "'BertTokenizer' object has no attribute 'batch_encode_plus'",
     "output_type": "error",
     "traceback": [
      "\u001b[0;31m---------------------------------------------------------------------------\u001b[0m",
      "\u001b[0;31mAttributeError\u001b[0m                            Traceback (most recent call last)",
      "Cell \u001b[0;32mIn[5], line 2\u001b[0m\n\u001b[1;32m      1\u001b[0m \u001b[38;5;66;03m# 1) 인코딩\u001b[39;00m\n\u001b[0;32m----> 2\u001b[0m enc \u001b[38;5;241m=\u001b[39m \u001b[43mtokenizer\u001b[49m\u001b[38;5;241;43m.\u001b[39;49m\u001b[43mbatch_encode_plus\u001b[49m(\n\u001b[1;32m      3\u001b[0m     texts,\n\u001b[1;32m      4\u001b[0m     max_length\u001b[38;5;241m=\u001b[39m\u001b[38;5;241m200\u001b[39m,\n\u001b[1;32m      5\u001b[0m     padding\u001b[38;5;241m=\u001b[39m\u001b[38;5;124m'\u001b[39m\u001b[38;5;124mmax_length\u001b[39m\u001b[38;5;124m'\u001b[39m,\n\u001b[1;32m      6\u001b[0m     truncation\u001b[38;5;241m=\u001b[39m\u001b[38;5;28;01mTrue\u001b[39;00m,\n\u001b[1;32m      7\u001b[0m     return_attention_mask\u001b[38;5;241m=\u001b[39m\u001b[38;5;28;01mTrue\u001b[39;00m,\n\u001b[1;32m      8\u001b[0m     return_token_type_ids\u001b[38;5;241m=\u001b[39m\u001b[38;5;28;01mTrue\u001b[39;00m,\n\u001b[1;32m      9\u001b[0m )\n\u001b[1;32m     11\u001b[0m \u001b[38;5;66;03m# 2) Tensor로 변환\u001b[39;00m\n\u001b[1;32m     12\u001b[0m input_ids      \u001b[38;5;241m=\u001b[39m torch\u001b[38;5;241m.\u001b[39mtensor(enc[\u001b[38;5;124m'\u001b[39m\u001b[38;5;124minput_ids\u001b[39m\u001b[38;5;124m'\u001b[39m])\u001b[38;5;241m.\u001b[39mto(DEVICE)       \u001b[38;5;66;03m# shape: [B, 512]\u001b[39;00m\n",
      "\u001b[0;31mAttributeError\u001b[0m: 'BertTokenizer' object has no attribute 'batch_encode_plus'"
     ]
    }
   ],
   "source": [
    "# 1) 인코딩\n",
    "enc = tokenizer.batch_encode_plus(\n",
    "    texts,\n",
    "    max_length=200,\n",
    "    padding='max_length',\n",
    "    truncation=True,\n",
    "    return_attention_mask=True,\n",
    "    return_token_type_ids=True,\n",
    ")\n",
    "\n",
    "# 2) Tensor로 변환\n",
    "input_ids      = torch.tensor(enc['input_ids']).to(DEVICE)       # shape: [B, 512]\n",
    "attention_mask = torch.tensor(enc['attention_mask']).to(DEVICE)  # shape: [B, 512]\n",
    "\n",
    "# 3) 패딩(0) 위치만 1로 하는 token_type_ids 생성\n",
    "token_type_ids = (input_ids == 0).long()  # 이제 tensor 연산이므로 .long() 호출 가능\n",
    "\n",
    "# 4) DataLoader 구성\n",
    "labels_tensor = torch.tensor(labels).to(DEVICE)\n",
    "dataset = TensorDataset(input_ids, attention_mask, token_type_ids, labels_tensor)\n",
    "loader  = DataLoader(dataset, batch_size=32)\n",
    "\n",
    "\n"
   ]
  },
  {
   "cell_type": "code",
   "execution_count": 6,
   "id": "c0460f08",
   "metadata": {},
   "outputs": [
    {
     "name": "stdout",
     "output_type": "stream",
     "text": [
      "Accuracy : 0.0197\n",
      "Precision: 0.0234\n",
      "Recall   : 0.0236\n",
      "F1 Score : 0.0235\n"
     ]
    }
   ],
   "source": [
    "preds, trues = [], []\n",
    "with torch.no_grad():\n",
    "    for input_ids, attention_mask, token_type_ids, label in loader:\n",
    "        input_ids      = input_ids.to(DEVICE)\n",
    "        attention_mask = attention_mask.to(DEVICE)\n",
    "        token_type_ids = token_type_ids.to(DEVICE)\n",
    "\n",
    "        # token_type_ids 인자를 추가합니다\n",
    "        logits = model(\n",
    "            input_ids=input_ids,\n",
    "            attention_mask=attention_mask,\n",
    "            token_type_ids=token_type_ids\n",
    "        ).logits\n",
    "\n",
    "        batch_preds = torch.argmax(logits, dim=1).cpu().numpy()\n",
    "        preds.extend(batch_preds)\n",
    "        trues.extend(label.cpu().numpy())\n",
    "\n",
    "accuracy  = accuracy_score(trues, preds)\n",
    "precision = precision_score(trues, preds)\n",
    "recall    = recall_score(trues, preds)\n",
    "f1        = f1_score(trues, preds)\n",
    "\n",
    "print(f\"Accuracy : {accuracy:.4f}\")\n",
    "print(f\"Precision: {precision:.4f}\")\n",
    "print(f\"Recall   : {recall:.4f}\")\n",
    "print(f\"F1 Score : {f1:.4f}\")\n"
   ]
  },
  {
   "cell_type": "code",
   "execution_count": 7,
   "id": "53e10f01",
   "metadata": {},
   "outputs": [
    {
     "name": "stdout",
     "output_type": "stream",
     "text": [
      "Missing keys   : ['bert.pooler.dense.weight', 'bert.pooler.dense.bias']\n",
      "Unexpected keys: []\n"
     ]
    }
   ],
   "source": [
    "missing, unexpected = model.load_state_dict(fixed_state, strict=False)\n",
    "print(\"Missing keys   :\", missing)\n",
    "print(\"Unexpected keys:\", unexpected)\n"
   ]
  },
  {
   "cell_type": "code",
   "execution_count": 10,
   "id": "4d9569f6",
   "metadata": {},
   "outputs": [
    {
     "data": {
      "image/png": "[encoded data removed]",
      "text/plain": [
       "<Figure size 640x480 with 2 Axes>"
      ]
     },
     "metadata": {},
     "output_type": "display_data"
    }
   ],
   "source": [
    "from sklearn.metrics import confusion_matrix\n",
    "import seaborn as sns\n",
    "import matplotlib.pyplot as plt\n",
    "\n",
    "cm = confusion_matrix(trues, preds)\n",
    "sns.heatmap(cm, annot=True, fmt=\"d\", cmap=\"Blues\",\n",
    "            xticklabels=[\"benign\",\"malicious\"],\n",
    "            yticklabels=[\"benign\",\"malicious\"])\n",
    "plt.xlabel(\"Predicted\")\n",
    "plt.ylabel(\"True\")\n",
    "plt.show()\n"
   ]
  }
 ],
 "metadata": {
  "kernelspec": {
   "display_name": "urlbert-gpu",
   "language": "python",
   "name": "python3"
  },
  "language_info": {
   "codemirror_mode": {
    "name": "ipython",
    "version": 3
   },
   "file_extension": ".py",
   "mimetype": "text/x-python",
   "name": "python",
   "nbconvert_exporter": "python",
   "pygments_lexer": "ipython3",
   "version": "3.10.18"
  }
 },
 "nbformat": 4,
 "nbformat_minor": 5
}
