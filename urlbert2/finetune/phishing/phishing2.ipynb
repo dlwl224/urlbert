{
 "cells": [
  {
   "cell_type": "code",
   "execution_count": 1,
   "id": "7dad3ae0",
   "metadata": {},
   "outputs": [
    {
     "name": "stdout",
     "output_type": "stream",
     "text": [
      "Requirement already satisfied: pandas in /home/kong/miniconda3/envs/urlbert-gpu/lib/python3.10/site-packages (2.3.0)\n",
      "Requirement already satisfied: scikit-learn in /home/kong/miniconda3/envs/urlbert-gpu/lib/python3.10/site-packages (1.7.0)\n",
      "Requirement already satisfied: matplotlib in /home/kong/miniconda3/envs/urlbert-gpu/lib/python3.10/site-packages (3.10.3)\n",
      "Requirement already satisfied: seaborn in /home/kong/miniconda3/envs/urlbert-gpu/lib/python3.10/site-packages (0.13.2)\n",
      "Requirement already satisfied: tqdm in /home/kong/miniconda3/envs/urlbert-gpu/lib/python3.10/site-packages (4.67.1)\n",
      "Requirement already satisfied: pytorch-pretrained-bert in /home/kong/miniconda3/envs/urlbert-gpu/lib/python3.10/site-packages (0.6.2)\n",
      "Requirement already satisfied: numpy>=1.22.4 in /home/kong/miniconda3/envs/urlbert-gpu/lib/python3.10/site-packages (from pandas) (2.0.1)\n",
      "Requirement already satisfied: python-dateutil>=2.8.2 in /home/kong/miniconda3/envs/urlbert-gpu/lib/python3.10/site-packages (from pandas) (2.9.0.post0)\n",
      "Requirement already satisfied: pytz>=2020.1 in /home/kong/miniconda3/envs/urlbert-gpu/lib/python3.10/site-packages (from pandas) (2025.2)\n",
      "Requirement already satisfied: tzdata>=2022.7 in /home/kong/miniconda3/envs/urlbert-gpu/lib/python3.10/site-packages (from pandas) (2025.2)\n",
      "Requirement already satisfied: scipy>=1.8.0 in /home/kong/miniconda3/envs/urlbert-gpu/lib/python3.10/site-packages (from scikit-learn) (1.15.3)\n",
      "Requirement already satisfied: joblib>=1.2.0 in /home/kong/miniconda3/envs/urlbert-gpu/lib/python3.10/site-packages (from scikit-learn) (1.5.1)\n",
      "Requirement already satisfied: threadpoolctl>=3.1.0 in /home/kong/miniconda3/envs/urlbert-gpu/lib/python3.10/site-packages (from scikit-learn) (3.6.0)\n",
      "Requirement already satisfied: contourpy>=1.0.1 in /home/kong/miniconda3/envs/urlbert-gpu/lib/python3.10/site-packages (from matplotlib) (1.3.2)\n",
      "Requirement already satisfied: cycler>=0.10 in /home/kong/miniconda3/envs/urlbert-gpu/lib/python3.10/site-packages (from matplotlib) (0.12.1)\n",
      "Requirement already satisfied: fonttools>=4.22.0 in /home/kong/miniconda3/envs/urlbert-gpu/lib/python3.10/site-packages (from matplotlib) (4.58.4)\n",
      "Requirement already satisfied: kiwisolver>=1.3.1 in /home/kong/miniconda3/envs/urlbert-gpu/lib/python3.10/site-packages (from matplotlib) (1.4.8)\n",
      "Requirement already satisfied: packaging>=20.0 in /home/kong/miniconda3/envs/urlbert-gpu/lib/python3.10/site-packages (from matplotlib) (25.0)\n",
      "Requirement already satisfied: pillow>=8 in /home/kong/miniconda3/envs/urlbert-gpu/lib/python3.10/site-packages (from matplotlib) (11.1.0)\n",
      "Requirement already satisfied: pyparsing>=2.3.1 in /home/kong/miniconda3/envs/urlbert-gpu/lib/python3.10/site-packages (from matplotlib) (3.2.3)\n",
      "Requirement already satisfied: torch>=0.4.1 in /home/kong/.local/lib/python3.10/site-packages (from pytorch-pretrained-bert) (2.7.1)\n",
      "Requirement already satisfied: boto3 in /home/kong/miniconda3/envs/urlbert-gpu/lib/python3.10/site-packages (from pytorch-pretrained-bert) (1.38.42)\n",
      "Requirement already satisfied: requests in /home/kong/miniconda3/envs/urlbert-gpu/lib/python3.10/site-packages (from pytorch-pretrained-bert) (2.32.4)\n",
      "Requirement already satisfied: regex in /home/kong/miniconda3/envs/urlbert-gpu/lib/python3.10/site-packages (from pytorch-pretrained-bert) (2024.11.6)\n",
      "Requirement already satisfied: six>=1.5 in /home/kong/miniconda3/envs/urlbert-gpu/lib/python3.10/site-packages (from python-dateutil>=2.8.2->pandas) (1.17.0)\n",
      "Requirement already satisfied: filelock in /home/kong/.local/lib/python3.10/site-packages (from torch>=0.4.1->pytorch-pretrained-bert) (3.18.0)\n",
      "Requirement already satisfied: typing-extensions>=4.10.0 in /home/kong/.local/lib/python3.10/site-packages (from torch>=0.4.1->pytorch-pretrained-bert) (4.14.0)\n",
      "Requirement already satisfied: sympy>=1.13.3 in /home/kong/.local/lib/python3.10/site-packages (from torch>=0.4.1->pytorch-pretrained-bert) (1.14.0)\n",
      "Requirement already satisfied: networkx in /home/kong/.local/lib/python3.10/site-packages (from torch>=0.4.1->pytorch-pretrained-bert) (3.4.2)\n",
      "Requirement already satisfied: jinja2 in /home/kong/miniconda3/envs/urlbert-gpu/lib/python3.10/site-packages (from torch>=0.4.1->pytorch-pretrained-bert) (3.1.6)\n",
      "Requirement already satisfied: fsspec in /home/kong/.local/lib/python3.10/site-packages (from torch>=0.4.1->pytorch-pretrained-bert) (2025.5.1)\n",
      "Requirement already satisfied: nvidia-cuda-nvrtc-cu12==12.6.77 in /home/kong/.local/lib/python3.10/site-packages (from torch>=0.4.1->pytorch-pretrained-bert) (12.6.77)\n",
      "Requirement already satisfied: nvidia-cuda-runtime-cu12==12.6.77 in /home/kong/.local/lib/python3.10/site-packages (from torch>=0.4.1->pytorch-pretrained-bert) (12.6.77)\n",
      "Requirement already satisfied: nvidia-cuda-cupti-cu12==12.6.80 in /home/kong/.local/lib/python3.10/site-packages (from torch>=0.4.1->pytorch-pretrained-bert) (12.6.80)\n",
      "Requirement already satisfied: nvidia-cudnn-cu12==9.5.1.17 in /home/kong/.local/lib/python3.10/site-packages (from torch>=0.4.1->pytorch-pretrained-bert) (9.5.1.17)\n",
      "Requirement already satisfied: nvidia-cublas-cu12==12.6.4.1 in /home/kong/.local/lib/python3.10/site-packages (from torch>=0.4.1->pytorch-pretrained-bert) (12.6.4.1)\n",
      "Requirement already satisfied: nvidia-cufft-cu12==11.3.0.4 in /home/kong/.local/lib/python3.10/site-packages (from torch>=0.4.1->pytorch-pretrained-bert) (11.3.0.4)\n",
      "Requirement already satisfied: nvidia-curand-cu12==10.3.7.77 in /home/kong/.local/lib/python3.10/site-packages (from torch>=0.4.1->pytorch-pretrained-bert) (10.3.7.77)\n",
      "Requirement already satisfied: nvidia-cusolver-cu12==11.7.1.2 in /home/kong/.local/lib/python3.10/site-packages (from torch>=0.4.1->pytorch-pretrained-bert) (11.7.1.2)\n",
      "Requirement already satisfied: nvidia-cusparse-cu12==12.5.4.2 in /home/kong/.local/lib/python3.10/site-packages (from torch>=0.4.1->pytorch-pretrained-bert) (12.5.4.2)\n",
      "Requirement already satisfied: nvidia-cusparselt-cu12==0.6.3 in /home/kong/.local/lib/python3.10/site-packages (from torch>=0.4.1->pytorch-pretrained-bert) (0.6.3)\n",
      "Requirement already satisfied: nvidia-nccl-cu12==2.26.2 in /home/kong/.local/lib/python3.10/site-packages (from torch>=0.4.1->pytorch-pretrained-bert) (2.26.2)\n",
      "Requirement already satisfied: nvidia-nvtx-cu12==12.6.77 in /home/kong/.local/lib/python3.10/site-packages (from torch>=0.4.1->pytorch-pretrained-bert) (12.6.77)\n",
      "Requirement already satisfied: nvidia-nvjitlink-cu12==12.6.85 in /home/kong/.local/lib/python3.10/site-packages (from torch>=0.4.1->pytorch-pretrained-bert) (12.6.85)\n",
      "Requirement already satisfied: nvidia-cufile-cu12==1.11.1.6 in /home/kong/.local/lib/python3.10/site-packages (from torch>=0.4.1->pytorch-pretrained-bert) (1.11.1.6)\n",
      "Requirement already satisfied: triton==3.3.1 in /home/kong/.local/lib/python3.10/site-packages (from torch>=0.4.1->pytorch-pretrained-bert) (3.3.1)\n",
      "Requirement already satisfied: setuptools>=40.8.0 in /home/kong/miniconda3/envs/urlbert-gpu/lib/python3.10/site-packages (from triton==3.3.1->torch>=0.4.1->pytorch-pretrained-bert) (78.1.1)\n",
      "Requirement already satisfied: mpmath<1.4,>=1.1.0 in /home/kong/.local/lib/python3.10/site-packages (from sympy>=1.13.3->torch>=0.4.1->pytorch-pretrained-bert) (1.3.0)\n",
      "Requirement already satisfied: botocore<1.39.0,>=1.38.42 in /home/kong/miniconda3/envs/urlbert-gpu/lib/python3.10/site-packages (from boto3->pytorch-pretrained-bert) (1.38.42)\n",
      "Requirement already satisfied: jmespath<2.0.0,>=0.7.1 in /home/kong/miniconda3/envs/urlbert-gpu/lib/python3.10/site-packages (from boto3->pytorch-pretrained-bert) (1.0.1)\n",
      "Requirement already satisfied: s3transfer<0.14.0,>=0.13.0 in /home/kong/miniconda3/envs/urlbert-gpu/lib/python3.10/site-packages (from boto3->pytorch-pretrained-bert) (0.13.0)\n",
      "Requirement already satisfied: urllib3!=2.2.0,<3,>=1.25.4 in /home/kong/miniconda3/envs/urlbert-gpu/lib/python3.10/site-packages (from botocore<1.39.0,>=1.38.42->boto3->pytorch-pretrained-bert) (2.3.0)\n",
      "Requirement already satisfied: MarkupSafe>=2.0 in /home/kong/miniconda3/envs/urlbert-gpu/lib/python3.10/site-packages (from jinja2->torch>=0.4.1->pytorch-pretrained-bert) (3.0.2)\n",
      "Requirement already satisfied: charset_normalizer<4,>=2 in /home/kong/miniconda3/envs/urlbert-gpu/lib/python3.10/site-packages (from requests->pytorch-pretrained-bert) (3.3.2)\n",
      "Requirement already satisfied: idna<4,>=2.5 in /home/kong/miniconda3/envs/urlbert-gpu/lib/python3.10/site-packages (from requests->pytorch-pretrained-bert) (3.7)\n",
      "Requirement already satisfied: certifi>=2017.4.17 in /home/kong/miniconda3/envs/urlbert-gpu/lib/python3.10/site-packages (from requests->pytorch-pretrained-bert) (2025.4.26)\n"
     ]
    }
   ],
   "source": [
    "!pip install pandas scikit-learn matplotlib seaborn tqdm pytorch-pretrained-bert"
   ]
  },
  {
   "cell_type": "code",
   "execution_count": null,
   "id": "b5f56d11",
   "metadata": {},
   "outputs": [],
   "source": [
    "# ─── 셀 1: 필요한 라이브러리 설치 ─────────────────────────────────────────────\n",
    "%pip install \\\n",
    "    pandas \\\n",
    "    scikit-learn \\\n",
    "    matplotlib \\\n",
    "    seaborn \\\n",
    "    tqdm \\\n",
    "    pytorch-pretrained-bert\n"
   ]
  },
  {
   "cell_type": "code",
   "execution_count": 1,
   "id": "917c68ec",
   "metadata": {},
   "outputs": [
    {
     "name": "stderr",
     "output_type": "stream",
     "text": [
      "/home/kong/miniconda3/envs/urlbert-gpu/lib/python3.10/site-packages/tqdm/auto.py:21: TqdmWarning: IProgress not found. Please update jupyter and ipywidgets. See https://ipywidgets.readthedocs.io/en/stable/user_install.html\n",
      "  from .autonotebook import tqdm as notebook_tqdm\n"
     ]
    }
   ],
   "source": [
    "import torch\n",
    "import torch.nn as nn\n",
    "import torch.nn.functional as F\n",
    "from pytorch_pretrained_bert import BertTokenizer\n",
    "import pandas as pd\n",
    "import numpy as np\n",
    "from torch.utils.data import *\n",
    "from sklearn.metrics import accuracy_score, precision_score, recall_score, f1_score, confusion_matrix\n",
    "import matplotlib.pyplot as plt\n",
    "import seaborn as sns\n",
    "from tqdm import tqdm\n",
    "import time\n",
    "import random\n",
    "from transformers import get_linear_schedule_with_warmup\n",
    "SEED = 42\n",
    "random.seed(SEED)\n",
    "np.random.seed(SEED)\n",
    "torch.manual_seed(SEED)\n",
    "if torch.cuda.is_available():\n",
    "    torch.cuda.manual_seed_all(SEED)\n",
    "\n",
    "# (속도 조금 느려지지만) CuDNN 결정론 모드 활성화\n",
    "torch.backends.cudnn.deterministic = True\n",
    "torch.backends.cudnn.benchmark     = False"
   ]
  },
  {
   "cell_type": "code",
   "execution_count": 2,
   "id": "fc8ca349",
   "metadata": {},
   "outputs": [],
   "source": [
    "def dataPreprocessFromCSV(filename, input_ids, input_types, input_masks, label):\n",
    "    \"\"\"\n",
    "    Preprocess data from a CSV file containing URLs and labels.\n",
    "\n",
    "    :param filename: The path to the CSV data file.\n",
    "    :param input_ids: List to store input char IDs.\n",
    "    :param input_types: List to store segment IDs.\n",
    "    :param input_masks: List to store attention masks.\n",
    "    :param label: List to store labels.\n",
    "    :return: None\n",
    "    \"\"\"\n",
    "    pad_size = 512\n",
    "    tokenizer = BertTokenizer(\"/home/kong/urlbert/url_bert/urlbert2/bert_tokenizer/vocab.txt\")  # Initialize the tokenizer\n",
    "\n",
    "    data = pd.read_csv(filename, encoding='utf-8')\n",
    "    for i, row in tqdm(data.iterrows(), total=len(data)):\n",
    "        x1 = row['text']  # Replace with the column name in your CSV file where the text data is located\n",
    "        x1 = tokenizer.tokenize(x1)\n",
    "        tokens = [\"[CLS]\"] + x1 + [\"[SEP]\"]\n",
    "\n",
    "        # Get input_id, seg_id, att_mask\n",
    "        ids = tokenizer.convert_tokens_to_ids(tokens)\n",
    "        types = [0] * (len(ids))\n",
    "        masks = [1] * len(ids)\n",
    "\n",
    "        # Pad if short, truncate if long\n",
    "        if len(ids) < pad_size:\n",
    "            types = types + [1] * (pad_size - len(ids))  # Set segment to 1 for the masked part\n",
    "            masks = masks + [0] * (pad_size - len(ids))\n",
    "            ids = ids + [0] * (pad_size - len(ids))\n",
    "        else:\n",
    "            types = types[:pad_size]\n",
    "            masks = masks[:pad_size]\n",
    "            ids = ids[:pad_size]\n",
    "        input_ids.append(ids)\n",
    "        input_types.append(types)\n",
    "        input_masks.append(masks)\n",
    "        assert len(ids) == len(masks) == len(types) == pad_size\n",
    "\n",
    "        y = row['label']\n",
    "        if y == 'malicious':\n",
    "            label.append([1])\n",
    "        elif y == 'benign':\n",
    "            label.append([0])\n",
    "        elif y == \"1\":\n",
    "            label.append([1])\n",
    "        elif y == \"0\":\n",
    "            label.append([0])"
   ]
  },
  {
   "cell_type": "code",
   "execution_count": 3,
   "id": "477acb6b",
   "metadata": {},
   "outputs": [
    {
     "name": "stderr",
     "output_type": "stream",
     "text": [
      "100%|██████████| 79998/79998 [00:45<00:00, 1755.43it/s]\n"
     ]
    }
   ],
   "source": [
    "input_ids = []  # input char ids\n",
    "input_types = []  # segment ids\n",
    "input_masks = []  # attention mask\n",
    "label = []\n",
    "\n",
    "dataPreprocessFromCSV(\"/home/kong/urlbert/url_bert/urlbert2/dataset/urlbert_input.csv\", input_ids, input_types, input_masks, label)"
   ]
  },
  {
   "cell_type": "code",
   "execution_count": 4,
   "id": "be62b829",
   "metadata": {},
   "outputs": [
    {
     "data": {
      "text/plain": [
       "device(type='cuda')"
      ]
     },
     "execution_count": 4,
     "metadata": {},
     "output_type": "execute_result"
    }
   ],
   "source": [
    "DEVICE = torch.device(\"cuda\" if torch.cuda.is_available() else \"cpu\")\n",
    "DEVICE"
   ]
  },
  {
   "cell_type": "code",
   "execution_count": 5,
   "id": "21d1e8d6",
   "metadata": {},
   "outputs": [],
   "source": [
    "def spiltDatast_bert(input_ids, input_types, input_masks, label):\n",
    "    \"\"\"\n",
    "    Split the dataset into training and testing sets.\n",
    "\n",
    "    :param input_ids: List of input character IDs.\n",
    "    :param input_types: List of segment IDs.\n",
    "    :param input_masks: List of attention masks.\n",
    "    :param label: List of labels.\n",
    "    :return: Split datasets for training and testing.\n",
    "    \"\"\"\n",
    "    # Randomly shuffle the indices\n",
    "    random_order = list(range(len(input_ids)))\n",
    "    np.random.seed(2024)  # Fix the seed\n",
    "    np.random.shuffle(random_order)\n",
    "    print(random_order[:10])\n",
    "\n",
    "    # Split the dataset into 80% training and 20% testing\n",
    "    input_ids_train = np.array([input_ids[i] for i in random_order[:int(len(input_ids) * 0.8)]])\n",
    "    input_types_train = np.array([input_types[i] for i in random_order[:int(len(input_ids) * 0.8)]])\n",
    "    input_masks_train = np.array([input_masks[i] for i in random_order[:int(len(input_ids) * 0.8)]])\n",
    "    y_train = np.array([label[i] for i in random_order[:int(len(input_ids) * 0.8)]])\n",
    "    print(\"input_ids_train.shape:\" + str(input_ids_train.shape))\n",
    "    print(\"input_types_train.shape:\" + str(input_types_train.shape))\n",
    "    print(\"input_masks_train.shape:\" + str(input_masks_train.shape))\n",
    "    print(\"y_train.shape:\" + str(y_train.shape))\n",
    "\n",
    "    input_ids_test = np.array([input_ids[i] for i in random_order[int(len(input_ids) * 0.8):int(len(input_ids) * 1)]])\n",
    "    input_types_test = np.array([input_types[i] for i in random_order[int(len(input_ids) * 0.8):int(len(input_ids) * 1)]])\n",
    "    input_masks_test = np.array([input_masks[i] for i in random_order[int(len(input_ids) * 0.8):int(len(input_ids) * 1)]])\n",
    "    y_test = np.array([label[i] for i in random_order[int(len(input_ids) * 0.8):int(len(input_ids) * 1)]])\n",
    "    print(\"input_ids_test.shape:\" + str(input_ids_test.shape))\n",
    "    print(\"input_types_test.shape:\" + str(input_types_test.shape))\n",
    "    print(\"input_masks_test.shape:\" + str(input_masks_test.shape))\n",
    "    print(\"y_test.shape:\" + str(y_test.shape))\n",
    "\n",
    "    return input_ids_train, input_types_train, input_masks_train, y_train, input_ids_test, input_types_test, input_masks_test, y_test"
   ]
  },
  {
   "cell_type": "code",
   "execution_count": 6,
   "id": "43e53027",
   "metadata": {},
   "outputs": [
    {
     "name": "stdout",
     "output_type": "stream",
     "text": [
      "79998\n",
      "79998\n"
     ]
    }
   ],
   "source": [
    "print(len(input_ids))\n",
    "print(len(label))"
   ]
  },
  {
   "cell_type": "code",
   "execution_count": 7,
   "id": "ee857ee1",
   "metadata": {},
   "outputs": [
    {
     "name": "stdout",
     "output_type": "stream",
     "text": [
      "[54744, 26671, 24586, 5189, 17246, 41963, 19535, 24723, 71407, 5982]\n",
      "input_ids_train.shape:(63998, 512)\n",
      "input_types_train.shape:(63998, 512)\n",
      "input_masks_train.shape:(63998, 512)\n",
      "y_train.shape:(63998, 1)\n",
      "input_ids_test.shape:(16000, 512)\n",
      "input_types_test.shape:(16000, 512)\n",
      "input_masks_test.shape:(16000, 512)\n",
      "y_test.shape:(16000, 1)\n"
     ]
    }
   ],
   "source": [
    "input_ids_train, input_types_train, input_masks_train, y_train, input_ids_val, input_types_val, input_masks_val, y_val = spiltDatast_bert(\n",
    "        input_ids, input_types, input_masks, label)\n",
    "BATCH_SIZE = 64\n",
    "train_data = TensorDataset(torch.tensor(input_ids_train).to(DEVICE),\n",
    "                               torch.tensor(input_types_train).to(DEVICE),\n",
    "                               torch.tensor(input_masks_train).to(DEVICE),\n",
    "                               torch.tensor(y_train).to(DEVICE))\n",
    "train_sampler = RandomSampler(\n",
    "     train_data,\n",
    "     generator=torch.Generator().manual_seed(SEED)\n",
    ")\n",
    "train_loader = DataLoader(train_data, sampler=train_sampler, batch_size=BATCH_SIZE)\n",
    "\n",
    "val_data = TensorDataset(torch.tensor(input_ids_val).to(DEVICE),\n",
    "                              torch.tensor(input_types_val).to(DEVICE),\n",
    "                              torch.tensor(input_masks_val).to(DEVICE),\n",
    "                              torch.tensor(y_val).to(DEVICE))\n",
    "val_sampler = SequentialSampler(val_data)\n",
    "val_loader = DataLoader(val_data, sampler=val_sampler, batch_size=BATCH_SIZE)"
   ]
  },
  {
   "cell_type": "code",
   "execution_count": 8,
   "id": "176fa77f",
   "metadata": {},
   "outputs": [
    {
     "name": "stdout",
     "output_type": "stream",
     "text": [
      "Requirement already satisfied: transformers in /home/kong/miniconda3/envs/urlbert-gpu/lib/python3.10/site-packages (4.52.4)\n",
      "Requirement already satisfied: filelock in /home/kong/.local/lib/python3.10/site-packages (from transformers) (3.18.0)\n",
      "Requirement already satisfied: huggingface-hub<1.0,>=0.30.0 in /home/kong/miniconda3/envs/urlbert-gpu/lib/python3.10/site-packages (from transformers) (0.33.0)\n",
      "Requirement already satisfied: numpy>=1.17 in /home/kong/miniconda3/envs/urlbert-gpu/lib/python3.10/site-packages (from transformers) (2.0.1)\n",
      "Requirement already satisfied: packaging>=20.0 in /home/kong/miniconda3/envs/urlbert-gpu/lib/python3.10/site-packages (from transformers) (25.0)\n",
      "Requirement already satisfied: pyyaml>=5.1 in /home/kong/miniconda3/envs/urlbert-gpu/lib/python3.10/site-packages (from transformers) (6.0.2)\n",
      "Requirement already satisfied: regex!=2019.12.17 in /home/kong/miniconda3/envs/urlbert-gpu/lib/python3.10/site-packages (from transformers) (2024.11.6)\n",
      "Requirement already satisfied: requests in /home/kong/miniconda3/envs/urlbert-gpu/lib/python3.10/site-packages (from transformers) (2.32.4)\n",
      "Requirement already satisfied: tokenizers<0.22,>=0.21 in /home/kong/miniconda3/envs/urlbert-gpu/lib/python3.10/site-packages (from transformers) (0.21.1)\n",
      "Requirement already satisfied: safetensors>=0.4.3 in /home/kong/miniconda3/envs/urlbert-gpu/lib/python3.10/site-packages (from transformers) (0.5.3)\n",
      "Requirement already satisfied: tqdm>=4.27 in /home/kong/miniconda3/envs/urlbert-gpu/lib/python3.10/site-packages (from transformers) (4.67.1)\n",
      "Requirement already satisfied: fsspec>=2023.5.0 in /home/kong/.local/lib/python3.10/site-packages (from huggingface-hub<1.0,>=0.30.0->transformers) (2025.5.1)\n",
      "Requirement already satisfied: typing-extensions>=3.7.4.3 in /home/kong/.local/lib/python3.10/site-packages (from huggingface-hub<1.0,>=0.30.0->transformers) (4.14.0)\n",
      "Requirement already satisfied: hf-xet<2.0.0,>=1.1.2 in /home/kong/miniconda3/envs/urlbert-gpu/lib/python3.10/site-packages (from huggingface-hub<1.0,>=0.30.0->transformers) (1.1.5)\n",
      "Requirement already satisfied: charset_normalizer<4,>=2 in /home/kong/miniconda3/envs/urlbert-gpu/lib/python3.10/site-packages (from requests->transformers) (3.3.2)\n",
      "Requirement already satisfied: idna<4,>=2.5 in /home/kong/miniconda3/envs/urlbert-gpu/lib/python3.10/site-packages (from requests->transformers) (3.7)\n",
      "Requirement already satisfied: urllib3<3,>=1.21.1 in /home/kong/miniconda3/envs/urlbert-gpu/lib/python3.10/site-packages (from requests->transformers) (2.3.0)\n",
      "Requirement already satisfied: certifi>=2017.4.17 in /home/kong/miniconda3/envs/urlbert-gpu/lib/python3.10/site-packages (from requests->transformers) (2025.4.26)\n",
      "Note: you may need to restart the kernel to use updated packages.\n"
     ]
    }
   ],
   "source": [
    "%pip install --upgrade transformers\n"
   ]
  },
  {
   "cell_type": "code",
   "execution_count": 8,
   "id": "5b3ca51f",
   "metadata": {},
   "outputs": [
    {
     "name": "stdout",
     "output_type": "stream",
     "text": [
      "4.52.4\n"
     ]
    }
   ],
   "source": [
    "import transformers\n",
    "print(transformers.__version__)\n"
   ]
  },
  {
   "cell_type": "code",
   "execution_count": null,
   "id": "f97d5d14",
   "metadata": {},
   "outputs": [
    {
     "name": "stdout",
     "output_type": "stream",
     "text": [
      "Looking in indexes: https://download.pytorch.org/whl/cu121\n",
      "Requirement already satisfied: torchvision in /home/kong/miniconda3/envs/urlbert-gpu/lib/python3.10/site-packages (0.20.1+cu121)\n",
      "Requirement already satisfied: numpy in /home/kong/miniconda3/envs/urlbert-gpu/lib/python3.10/site-packages (from torchvision) (2.0.1)\n",
      "Requirement already satisfied: torch==2.5.1 in /home/kong/miniconda3/envs/urlbert-gpu/lib/python3.10/site-packages (from torchvision) (2.5.1+cu121)\n",
      "Requirement already satisfied: pillow!=8.3.*,>=5.3.0 in /home/kong/miniconda3/envs/urlbert-gpu/lib/python3.10/site-packages (from torchvision) (11.1.0)\n",
      "Requirement already satisfied: filelock in /home/kong/.local/lib/python3.10/site-packages (from torch==2.5.1->torchvision) (3.18.0)\n",
      "Requirement already satisfied: typing-extensions>=4.8.0 in /home/kong/.local/lib/python3.10/site-packages (from torch==2.5.1->torchvision) (4.14.0)\n",
      "Requirement already satisfied: networkx in /home/kong/.local/lib/python3.10/site-packages (from torch==2.5.1->torchvision) (3.4.2)\n",
      "Requirement already satisfied: jinja2 in /home/kong/miniconda3/envs/urlbert-gpu/lib/python3.10/site-packages (from torch==2.5.1->torchvision) (3.1.6)\n",
      "Requirement already satisfied: fsspec in /home/kong/.local/lib/python3.10/site-packages (from torch==2.5.1->torchvision) (2025.5.1)\n",
      "Requirement already satisfied: nvidia-cuda-nvrtc-cu12==12.1.105 in /home/kong/miniconda3/envs/urlbert-gpu/lib/python3.10/site-packages (from torch==2.5.1->torchvision) (12.1.105)\n",
      "Requirement already satisfied: nvidia-cuda-runtime-cu12==12.1.105 in /home/kong/miniconda3/envs/urlbert-gpu/lib/python3.10/site-packages (from torch==2.5.1->torchvision) (12.1.105)\n",
      "Requirement already satisfied: nvidia-cuda-cupti-cu12==12.1.105 in /home/kong/miniconda3/envs/urlbert-gpu/lib/python3.10/site-packages (from torch==2.5.1->torchvision) (12.1.105)\n",
      "Requirement already satisfied: nvidia-cudnn-cu12==9.1.0.70 in /home/kong/miniconda3/envs/urlbert-gpu/lib/python3.10/site-packages (from torch==2.5.1->torchvision) (9.1.0.70)\n",
      "Requirement already satisfied: nvidia-cublas-cu12==12.1.3.1 in /home/kong/miniconda3/envs/urlbert-gpu/lib/python3.10/site-packages (from torch==2.5.1->torchvision) (12.1.3.1)\n",
      "Requirement already satisfied: nvidia-cufft-cu12==11.0.2.54 in /home/kong/miniconda3/envs/urlbert-gpu/lib/python3.10/site-packages (from torch==2.5.1->torchvision) (11.0.2.54)\n",
      "Requirement already satisfied: nvidia-curand-cu12==10.3.2.106 in /home/kong/miniconda3/envs/urlbert-gpu/lib/python3.10/site-packages (from torch==2.5.1->torchvision) (10.3.2.106)\n",
      "Requirement already satisfied: nvidia-cusolver-cu12==11.4.5.107 in /home/kong/miniconda3/envs/urlbert-gpu/lib/python3.10/site-packages (from torch==2.5.1->torchvision) (11.4.5.107)\n",
      "Requirement already satisfied: nvidia-cusparse-cu12==12.1.0.106 in /home/kong/miniconda3/envs/urlbert-gpu/lib/python3.10/site-packages (from torch==2.5.1->torchvision) (12.1.0.106)\n",
      "Requirement already satisfied: nvidia-nccl-cu12==2.21.5 in /home/kong/miniconda3/envs/urlbert-gpu/lib/python3.10/site-packages (from torch==2.5.1->torchvision) (2.21.5)\n",
      "Requirement already satisfied: nvidia-nvtx-cu12==12.1.105 in /home/kong/miniconda3/envs/urlbert-gpu/lib/python3.10/site-packages (from torch==2.5.1->torchvision) (12.1.105)\n",
      "Requirement already satisfied: triton==3.1.0 in /home/kong/miniconda3/envs/urlbert-gpu/lib/python3.10/site-packages (from torch==2.5.1->torchvision) (3.1.0)\n",
      "Requirement already satisfied: sympy==1.13.1 in /home/kong/miniconda3/envs/urlbert-gpu/lib/python3.10/site-packages (from torch==2.5.1->torchvision) (1.13.1)\n",
      "Requirement already satisfied: nvidia-nvjitlink-cu12 in /home/kong/.local/lib/python3.10/site-packages (from nvidia-cusolver-cu12==11.4.5.107->torch==2.5.1->torchvision) (12.6.85)\n",
      "Requirement already satisfied: mpmath<1.4,>=1.1.0 in /home/kong/.local/lib/python3.10/site-packages (from sympy==1.13.1->torch==2.5.1->torchvision) (1.3.0)\n",
      "Requirement already satisfied: MarkupSafe>=2.0 in /home/kong/miniconda3/envs/urlbert-gpu/lib/python3.10/site-packages (from jinja2->torch==2.5.1->torchvision) (3.0.2)\n",
      "Note: you may need to restart the kernel to use updated packages.\n"
     ]
    }
   ],
   "source": [
    "# ─── 셀 0: torchvision 재설치 (CUDA 12.1용 휠)\n",
    "%pip install --upgrade torchvision --index-url https://download.pytorch.org/whl/cu121\n"
   ]
  },
  {
   "cell_type": "code",
   "execution_count": 9,
   "id": "ce3d53d0",
   "metadata": {},
   "outputs": [
    {
     "name": "stdout",
     "output_type": "stream",
     "text": [
      "BertConfig {\n",
      "  \"architectures\": [\n",
      "    \"BertForMaskedLM\"\n",
      "  ],\n",
      "  \"attention_probs_dropout_prob\": 0.1,\n",
      "  \"classifier_dropout\": null,\n",
      "  \"gradient_checkpointing\": false,\n",
      "  \"hidden_act\": \"gelu\",\n",
      "  \"hidden_dropout_prob\": 0.1,\n",
      "  \"hidden_size\": 768,\n",
      "  \"initializer_range\": 0.02,\n",
      "  \"intermediate_size\": 3072,\n",
      "  \"layer_norm_eps\": 1e-12,\n",
      "  \"max_position_embeddings\": 512,\n",
      "  \"model_type\": \"bert\",\n",
      "  \"num_attention_heads\": 12,\n",
      "  \"num_hidden_layers\": 12,\n",
      "  \"pad_token_id\": 0,\n",
      "  \"position_embedding_type\": \"absolute\",\n",
      "  \"transformers_version\": \"4.52.4\",\n",
      "  \"type_vocab_size\": 2,\n",
      "  \"use_cache\": true,\n",
      "  \"vocab_size\": 5000\n",
      "}\n",
      "\n",
      "BertForMaskedLM(\n",
      "  (bert): BertModel(\n",
      "    (embeddings): BertEmbeddings(\n",
      "      (word_embeddings): Embedding(5000, 768, padding_idx=0)\n",
      "      (position_embeddings): Embedding(512, 768)\n",
      "      (token_type_embeddings): Embedding(2, 768)\n",
      "      (LayerNorm): LayerNorm((768,), eps=1e-12, elementwise_affine=True)\n",
      "      (dropout): Dropout(p=0.1, inplace=False)\n",
      "    )\n",
      "    (encoder): BertEncoder(\n",
      "      (layer): ModuleList(\n",
      "        (0-11): 12 x BertLayer(\n",
      "          (attention): BertAttention(\n",
      "            (self): BertSdpaSelfAttention(\n",
      "              (query): Linear(in_features=768, out_features=768, bias=True)\n",
      "              (key): Linear(in_features=768, out_features=768, bias=True)\n",
      "              (value): Linear(in_features=768, out_features=768, bias=True)\n",
      "              (dropout): Dropout(p=0.1, inplace=False)\n",
      "            )\n",
      "            (output): BertSelfOutput(\n",
      "              (dense): Linear(in_features=768, out_features=768, bias=True)\n",
      "              (LayerNorm): LayerNorm((768,), eps=1e-12, elementwise_affine=True)\n",
      "              (dropout): Dropout(p=0.1, inplace=False)\n",
      "            )\n",
      "          )\n",
      "          (intermediate): BertIntermediate(\n",
      "            (dense): Linear(in_features=768, out_features=3072, bias=True)\n",
      "            (intermediate_act_fn): GELUActivation()\n",
      "          )\n",
      "          (output): BertOutput(\n",
      "            (dense): Linear(in_features=3072, out_features=768, bias=True)\n",
      "            (LayerNorm): LayerNorm((768,), eps=1e-12, elementwise_affine=True)\n",
      "            (dropout): Dropout(p=0.1, inplace=False)\n",
      "          )\n",
      "        )\n",
      "      )\n",
      "    )\n",
      "  )\n",
      "  (cls): BertOnlyMLMHead(\n",
      "    (predictions): BertLMPredictionHead(\n",
      "      (transform): BertPredictionHeadTransform(\n",
      "        (dense): Linear(in_features=768, out_features=768, bias=True)\n",
      "        (transform_act_fn): GELUActivation()\n",
      "        (LayerNorm): LayerNorm((768,), eps=1e-12, elementwise_affine=True)\n",
      "      )\n",
      "      (decoder): Linear(in_features=768, out_features=5000, bias=True)\n",
      "    )\n",
      "  )\n",
      ")\n"
     ]
    }
   ],
   "source": [
    "from transformers import (\n",
    "    AutoConfig,\n",
    "    AutoModelForMaskedLM,\n",
    ")\n",
    "\n",
    "config_kwargs = {\n",
    "    \"cache_dir\": None,\n",
    "    \"revision\": 'main',\n",
    "    \"use_auth_token\": None,\n",
    "    \"hidden_dropout_prob\": 0.1,\n",
    "    \"vocab_size\": 5000,\n",
    "}\n",
    "\n",
    "config = AutoConfig.from_pretrained(\"../../bert_config\", **config_kwargs)\n",
    "print(config)\n",
    "\n",
    "bert_model = AutoModelForMaskedLM.from_config(\n",
    "    config=config,\n",
    ")\n",
    "bert_model.resize_token_embeddings(config_kwargs[\"vocab_size\"])\n",
    "print(bert_model)"
   ]
  },
  {
   "cell_type": "code",
   "execution_count": 10,
   "id": "589ccc60",
   "metadata": {},
   "outputs": [
    {
     "name": "stderr",
     "output_type": "stream",
     "text": [
      "/tmp/ipykernel_1459478/3496471146.py:1: FutureWarning: You are using `torch.load` with `weights_only=False` (the current default value), which uses the default pickle module implicitly. It is possible to construct malicious pickle data which will execute arbitrary code during unpickling (See https://github.com/pytorch/pytorch/blob/main/SECURITY.md#untrusted-models for more details). In a future release, the default value for `weights_only` will be flipped to `True`. This limits the functions that could be executed during unpickling. Arbitrary objects will no longer be allowed to be loaded via this mode unless they are explicitly allowlisted by the user via `torch.serialization.add_safe_globals`. We recommend you start setting `weights_only=True` for any use case where you don't have full control of the loaded file. Please open an issue on GitHub for any issues related to this experimental feature.\n",
      "  bert_dict = torch.load(\"/home/kong/urlbert/url_bert/urlbert2/bert_model/urlBERT (1).pt\", map_location=torch.device(\"cpu\"))\n"
     ]
    },
    {
     "data": {
      "text/plain": [
       "<All keys matched successfully>"
      ]
     },
     "execution_count": 10,
     "metadata": {},
     "output_type": "execute_result"
    }
   ],
   "source": [
    "bert_dict = torch.load(\"/home/kong/urlbert/url_bert/urlbert2/bert_model/urlBERT (1).pt\", map_location=torch.device(\"cpu\"))\n",
    "bert_model.load_state_dict(bert_dict)"
   ]
  },
  {
   "cell_type": "code",
   "execution_count": 11,
   "id": "593e2a9b",
   "metadata": {},
   "outputs": [],
   "source": [
    "class BertForSequenceClassification(nn.Module):\n",
    "    def __init__(self, bert, freeze=False):\n",
    "        super(BertForSequenceClassification, self).__init__()\n",
    "        self.bert = bert\n",
    "        for name, param in self.bert.named_parameters():\n",
    "            param.requires_grad = True\n",
    "        self.dropout = nn.Dropout(p=0.1)\n",
    "        self.classifier = nn.Linear(768, 2)\n",
    "\n",
    "    def forward(self, x):\n",
    "        context = x[0]\n",
    "        types = x[1]\n",
    "        mask = x[2]\n",
    "        outputs = self.bert(context, attention_mask=mask, token_type_ids=types, output_hidden_states=True)\n",
    "        hidden_states = outputs.hidden_states[-1][:,0,:]\n",
    "        out = self.dropout(hidden_states)\n",
    "        out = self.classifier(out)\n",
    "        \n",
    "        return out"
   ]
  },
  {
   "cell_type": "code",
   "execution_count": 12,
   "id": "83f15539",
   "metadata": {},
   "outputs": [
    {
     "data": {
      "text/plain": [
       "BertForSequenceClassification(\n",
       "  (bert): BertForMaskedLM(\n",
       "    (bert): BertModel(\n",
       "      (embeddings): BertEmbeddings(\n",
       "        (word_embeddings): Embedding(5000, 768, padding_idx=0)\n",
       "        (position_embeddings): Embedding(512, 768)\n",
       "        (token_type_embeddings): Embedding(2, 768)\n",
       "        (LayerNorm): LayerNorm((768,), eps=1e-12, elementwise_affine=True)\n",
       "        (dropout): Dropout(p=0.1, inplace=False)\n",
       "      )\n",
       "      (encoder): BertEncoder(\n",
       "        (layer): ModuleList(\n",
       "          (0-11): 12 x BertLayer(\n",
       "            (attention): BertAttention(\n",
       "              (self): BertSdpaSelfAttention(\n",
       "                (query): Linear(in_features=768, out_features=768, bias=True)\n",
       "                (key): Linear(in_features=768, out_features=768, bias=True)\n",
       "                (value): Linear(in_features=768, out_features=768, bias=True)\n",
       "                (dropout): Dropout(p=0.1, inplace=False)\n",
       "              )\n",
       "              (output): BertSelfOutput(\n",
       "                (dense): Linear(in_features=768, out_features=768, bias=True)\n",
       "                (LayerNorm): LayerNorm((768,), eps=1e-12, elementwise_affine=True)\n",
       "                (dropout): Dropout(p=0.1, inplace=False)\n",
       "              )\n",
       "            )\n",
       "            (intermediate): BertIntermediate(\n",
       "              (dense): Linear(in_features=768, out_features=3072, bias=True)\n",
       "              (intermediate_act_fn): GELUActivation()\n",
       "            )\n",
       "            (output): BertOutput(\n",
       "              (dense): Linear(in_features=3072, out_features=768, bias=True)\n",
       "              (LayerNorm): LayerNorm((768,), eps=1e-12, elementwise_affine=True)\n",
       "              (dropout): Dropout(p=0.1, inplace=False)\n",
       "            )\n",
       "          )\n",
       "        )\n",
       "      )\n",
       "    )\n",
       "    (cls): Sequential()\n",
       "  )\n",
       "  (dropout): Dropout(p=0.1, inplace=False)\n",
       "  (classifier): Linear(in_features=768, out_features=2, bias=True)\n",
       ")"
      ]
     },
     "execution_count": 12,
     "metadata": {},
     "output_type": "execute_result"
    }
   ],
   "source": [
    "model = BertForSequenceClassification(bert_model)\n",
    "model.bert.cls = nn.Sequential()\n",
    "model.to(DEVICE)"
   ]
  },
  {
   "cell_type": "code",
   "execution_count": 13,
   "id": "a5450a15",
   "metadata": {},
   "outputs": [],
   "source": [
    "optimizer = torch.optim.AdamW(model.parameters(), lr=2e-5, weight_decay=1e-4)"
   ]
  },
  {
   "cell_type": "code",
   "execution_count": 14,
   "id": "3286d882",
   "metadata": {},
   "outputs": [],
   "source": [
    "NUM_EPOCHS = 5\n",
    "num_training_steps = len(train_loader) * NUM_EPOCHS\n",
    "num_warmup_steps   = int(0.1 * num_training_steps)  # 예: 전체 스텝의 10%를 웜업에\n",
    "scheduler = get_linear_schedule_with_warmup(\n",
    "    optimizer,\n",
    "    num_warmup_steps=num_warmup_steps,\n",
    "    num_training_steps=num_training_steps,\n",
    ")"
   ]
  },
  {
   "cell_type": "code",
   "execution_count": 15,
   "id": "2cae29af",
   "metadata": {},
   "outputs": [],
   "source": [
    "def train(model, device, train_loader, optimizer, epoch):\n",
    "    model.train()\n",
    "    for batch_idx, (x1, x2, x3, y) in enumerate(train_loader):\n",
    "        start_time = time.time()\n",
    "        x1, x2, x3, y = x1.to(device), x2.to(device), x3.to(device), y.to(device)\n",
    "        \n",
    "        y_pred = model([x1, x2, x3])\n",
    "        model.zero_grad()\n",
    "        \n",
    "        loss = F.cross_entropy(y_pred, y.squeeze())\n",
    "        loss.backward()\n",
    "        \n",
    "        optimizer.step()\n",
    "        scheduler.step() \n",
    "        if (batch_idx + 1) % 100 == 0:\n",
    "            print('Train Epoch: {} [{}/{} ({:.2f}%)]\\t Loss: {:.6f}'.format(epoch, (batch_idx + 1) * len(x1),\n",
    "                                                                            len(train_loader.dataset),\n",
    "                                                                            100. * batch_idx / len(train_loader),\n",
    "                                                                            loss.item()))"
   ]
  },
  {
   "cell_type": "code",
   "execution_count": 16,
   "id": "d8fc4b0b",
   "metadata": {},
   "outputs": [],
   "source": [
    "def validation(model, device, test_loader):\n",
    "    \"\"\"\n",
    "    Perform model validation on the test data.\n",
    "\n",
    "    :param model: The model to be validated.\n",
    "    :param device: The device to run validation on (e.g., CPU or GPU).\n",
    "    :param test_loader: The data loader for test data.\n",
    "    :return: A tuple containing accuracy, precision, recall, and F1 score.\n",
    "    \"\"\"\n",
    "    model.eval()\n",
    "    test_loss = 0.0\n",
    "    y_true = []\n",
    "    y_pred = []\n",
    "\n",
    "    for batch_idx, (x1, x2, x3, y) in enumerate(test_loader):\n",
    "        x1, x2, x3, y = x1.to(device), x2.to(device), x3.to(device), y.to(device)\n",
    "        with torch.no_grad():\n",
    "            y_ = model([x1, x2, x3])\n",
    "\n",
    "        test_loss += F.cross_entropy(y_, y.squeeze()).item()\n",
    "\n",
    "        pred = y_.max(-1, keepdim=True)[1]  # .max(): 2 outputs, representing the maximum value and its index\n",
    "\n",
    "        y_true.extend(y.cpu().numpy())\n",
    "        y_pred.extend(pred.cpu().numpy())\n",
    "\n",
    "    test_loss /= len(test_loader)\n",
    "\n",
    "    accuracy = accuracy_score(y_true, y_pred)\n",
    "    precision = precision_score(y_true, y_pred)\n",
    "    recall = recall_score(y_true, y_pred)\n",
    "    f1 = f1_score(y_true, y_pred)\n",
    "\n",
    "    cm = confusion_matrix(y_true, y_pred)\n",
    "\n",
    "    # Plot the confusion matrix\n",
    "    plt.figure(figsize=(8, 6))\n",
    "    sns.heatmap(cm, annot=True, fmt=\"d\", cmap=\"Blues\", xticklabels=['benign', 'malware'],\n",
    "                yticklabels=['benign', 'malware'])\n",
    "    plt.xlabel('Predicted')\n",
    "    plt.ylabel('True')\n",
    "    plt.title('Confusion Matrix')\n",
    "\n",
    "    # Save the confusion matrix plot\n",
    "    plt.savefig('confusion_matrix.png')\n",
    "\n",
    "    print('Test set: Average loss: {:.4f}, Accuracy: {:.2f}%, Precision: {:.2f}%, Recall: {:.2f}%, F1: {:.2f}%'.format(\n",
    "        test_loss, accuracy * 100, precision * 100, recall * 100, f1 * 100))\n",
    "\n",
    "    return accuracy, precision, recall, f1"
   ]
  },
  {
   "cell_type": "code",
   "execution_count": 17,
   "id": "b2b56c67",
   "metadata": {},
   "outputs": [],
   "source": [
    "torch.cuda.empty_cache()"
   ]
  },
  {
   "cell_type": "code",
   "execution_count": 18,
   "id": "370d02c0",
   "metadata": {},
   "outputs": [
    {
     "name": "stdout",
     "output_type": "stream",
     "text": [
      "Train Epoch: 1 [6400/63998 (9.90%)]\t Loss: 0.071080\n",
      "Train Epoch: 1 [12800/63998 (19.90%)]\t Loss: 0.062569\n",
      "Train Epoch: 1 [19200/63998 (29.90%)]\t Loss: 0.012635\n",
      "Train Epoch: 1 [25600/63998 (39.90%)]\t Loss: 0.192735\n",
      "Train Epoch: 1 [32000/63998 (49.90%)]\t Loss: 0.079521\n",
      "Train Epoch: 1 [38400/63998 (59.90%)]\t Loss: 0.027811\n",
      "Train Epoch: 1 [44800/63998 (69.90%)]\t Loss: 0.122378\n",
      "Train Epoch: 1 [51200/63998 (79.90%)]\t Loss: 0.003311\n",
      "Train Epoch: 1 [57600/63998 (89.90%)]\t Loss: 0.004472\n",
      "Train Epoch: 1 [62000/63998 (99.90%)]\t Loss: 0.044992\n",
      "Test set: Average loss: 0.0305, Accuracy: 99.04%, Precision: 98.44%, Recall: 99.68%, F1: 99.05%\n",
      "acc is: 0.9904, best acc is 0.9904\n",
      "CUDA 메모리 부족 오류 발생! 최적 성능 모델을 저장하고 종료합니다.\n"
     ]
    },
    {
     "data": {
      "image/png": "[encoded data removed]",
      "text/plain": [
       "<Figure size 800x600 with 2 Axes>"
      ]
     },
     "metadata": {},
     "output_type": "display_data"
    }
   ],
   "source": [
    "\n",
    "\n",
    "best_acc = 0.0\n",
    "PATH = './checkpoints/modelx_URLBERT_80.pth'\n",
    "\n",
    "try:\n",
    "    for epoch in range(1, NUM_EPOCHS + 1):\n",
    "        train(model, DEVICE, train_loader, optimizer, epoch)\n",
    "        acc, precision, recall, f1 = validation(model, DEVICE, val_loader)\n",
    "\n",
    "        if best_acc < acc:\n",
    "            best_acc = acc\n",
    "            torch.save(model.state_dict(), PATH)\n",
    "        \n",
    "        print(\"acc is: {:.4f}, best acc is {:.4f}\".format(acc, best_acc))\n",
    "\n",
    "        # GPU 캐시 메모리 비우기\n",
    "        torch.cuda.empty_cache()\n",
    "\n",
    "except RuntimeError as e:\n",
    "    if \"out of memory\" in str(e).lower():\n",
    "        print(\"CUDA 메모리 부족 오류 발생! 최적 성능 모델을 저장하고 종료합니다.\")\n",
    "        # (이미 best model은 저장되어 있음)\n",
    "    else:\n",
    "        raise  # 다른 에러는 그대로 다시 raise\n",
    "\n",
    "    "
   ]
  },
  {
   "cell_type": "code",
   "execution_count": 20,
   "id": "31e1e3b9",
   "metadata": {},
   "outputs": [
    {
     "name": "stderr",
     "output_type": "stream",
     "text": [
      "/tmp/ipykernel_1459478/3622101841.py:2: FutureWarning: You are using `torch.load` with `weights_only=False` (the current default value), which uses the default pickle module implicitly. It is possible to construct malicious pickle data which will execute arbitrary code during unpickling (See https://github.com/pytorch/pytorch/blob/main/SECURITY.md#untrusted-models for more details). In a future release, the default value for `weights_only` will be flipped to `True`. This limits the functions that could be executed during unpickling. Arbitrary objects will no longer be allowed to be loaded via this mode unless they are explicitly allowlisted by the user via `torch.serialization.add_safe_globals`. We recommend you start setting `weights_only=True` for any use case where you don't have full control of the loaded file. Please open an issue on GitHub for any issues related to this experimental feature.\n",
      "  model.load_state_dict(torch.load(PATH, map_location=DEVICE))\n",
      "100%|██████████| 20000/20000 [00:11<00:00, 1740.31it/s]\n"
     ]
    },
    {
     "name": "stdout",
     "output_type": "stream",
     "text": [
      "Test set: Average loss: 0.0288, Accuracy: 99.10%, Precision: 98.54%, Recall: 99.68%, F1: 99.11%\n",
      "[Test] Acc: 0.9910, Prec: 0.9854, Rec: 0.9968, F1: 0.9911\n"
     ]
    },
    {
     "data": {
      "image/png": "[encoded data removed]",
      "text/plain": [
       "<Figure size 800x600 with 2 Axes>"
      ]
     },
     "metadata": {},
     "output_type": "display_data"
    }
   ],
   "source": [
    "\n",
    "\n",
    "# 1) 저장된 최종 모델 불러오기\n",
    "model.load_state_dict(torch.load(PATH, map_location=DEVICE))\n",
    "model.to(DEVICE).eval()\n",
    "\n",
    "# 2) 테스트 데이터 전처리\n",
    "test_input_ids, test_input_types, test_input_masks, test_labels = [], [], [], []\n",
    "dataPreprocessFromCSV(\n",
    "    \"/home/kong/urlbert/url_bert/urlbert2/dataset/urlbert_input_test.csv\",\n",
    "    test_input_ids, test_input_types, test_input_masks, test_labels\n",
    ")\n",
    "\n",
    "# 3) TensorDataset & DataLoader\n",
    "test_dataset = TensorDataset(\n",
    "    torch.tensor(test_input_ids).to(DEVICE),\n",
    "    torch.tensor(test_input_types).to(DEVICE),\n",
    "    torch.tensor(test_input_masks).to(DEVICE),\n",
    "    torch.tensor(test_labels).to(DEVICE),\n",
    ")\n",
    "test_loader = DataLoader(test_dataset, batch_size=32)\n",
    "\n",
    "# 4) validation() 함수로 테스트셋 평가\n",
    "test_acc, test_prec, test_rec, test_f1 = validation(model, DEVICE, test_loader)\n",
    "print(f\"[Test] Acc: {test_acc:.4f}, Prec: {test_prec:.4f}, Rec: {test_rec:.4f}, F1: {test_f1:.4f}\")\n"
   ]
  }
 ],
 "metadata": {
  "kernelspec": {
   "display_name": "urlbert-gpu",
   "language": "python",
   "name": "python3"
  },
  "language_info": {
   "codemirror_mode": {
    "name": "ipython",
    "version": 3
   },
   "file_extension": ".py",
   "mimetype": "text/x-python",
   "name": "python",
   "nbconvert_exporter": "python",
   "pygments_lexer": "ipython3",
   "version": "3.10.18"
  }
 },
 "nbformat": 4,
 "nbformat_minor": 5
}
